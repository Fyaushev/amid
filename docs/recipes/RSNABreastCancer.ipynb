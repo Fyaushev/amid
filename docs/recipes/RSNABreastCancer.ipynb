{
 "cells": [
  {
   "cell_type": "markdown",
   "source": [
    "## Normalization"
   ],
   "metadata": {
    "collapsed": false
   }
  },
  {
   "cell_type": "code",
   "execution_count": null,
   "outputs": [],
   "source": [
    "from connectome import Transform\n",
    "\n",
    "\n",
    "class Normalize(Transform):\n",
    "    __inherit__ = True\n",
    "\n",
    "    def image(image, padding_value, intensity_sign):\n",
    "        if padding_value is not None:\n",
    "            if padding_value > 0:\n",
    "                return padding_value - image\n",
    "            return image\n",
    "\n",
    "        if intensity_sign == 1:\n",
    "            return image.max() - image\n",
    "\n",
    "        return image"
   ],
   "metadata": {
    "collapsed": false
   }
  },
  {
   "cell_type": "markdown",
   "source": [
    "## Zoom to reduce image size"
   ],
   "metadata": {
    "collapsed": false
   }
  },
  {
   "cell_type": "code",
   "execution_count": null,
   "outputs": [],
   "source": [
    "from connectome import Apply\n",
    "from scipy.ndimage import zoom\n",
    "\n",
    "# 0.25 - is the downsample factor. It should probably be tuned via cross-validation\n",
    "Zoom = Apply(image=lambda x: zoom(np.float32(x), 0.25, order=1))"
   ],
   "metadata": {
    "collapsed": false
   }
  },
  {
   "cell_type": "markdown",
   "source": [
    "## Artifacts and background removal"
   ],
   "metadata": {
    "collapsed": false
   }
  },
  {
   "cell_type": "code",
   "execution_count": null,
   "outputs": [],
   "source": [
    "from connectome import Transform\n",
    "from skimage.morphology import label\n",
    "\n",
    "\n",
    "class GreatestComponent(Transform):\n",
    "    __inherit__ = True\n",
    "\n",
    "    def image(image):\n",
    "        lbl = label(image > 0)\n",
    "        values, counts = np.unique(lbl, return_counts=True)\n",
    "        foreground = values != 0\n",
    "        component = values[foreground][counts[foreground].argmax()]\n",
    "        # select all the components greater than the background\n",
    "        #  + the greatest foreground component\n",
    "        components = set(values[counts > counts[~foreground]]) | {component}\n",
    "        if len(components) > 1:\n",
    "            # if there are several components - pick the one with the greatest intensity\n",
    "            component = max(components, key=lambda c: image[lbl == c].mean())\n",
    "\n",
    "        return image * (lbl == component)\n",
    "\n",
    "\n",
    "class CropBackground(Transform):\n",
    "    __inherit__ = True\n",
    "\n",
    "    def image(image):\n",
    "        mask = image > 0\n",
    "        xs, = mask.any(0).nonzero()\n",
    "        ys, = mask.any(1).nonzero()\n",
    "        return image[ys.min():ys.max() + 1, xs.min():xs.max() + 1]"
   ],
   "metadata": {
    "collapsed": false
   }
  },
  {
   "cell_type": "markdown",
   "source": [
    "## Data augmentation"
   ],
   "metadata": {
    "collapsed": false
   }
  },
  {
   "cell_type": "code",
   "execution_count": null,
   "outputs": [],
   "source": [
    "from connectome import Transform, impure\n",
    "import numpy as np\n",
    "\n",
    "\n",
    "class RandomFlip(Transform):\n",
    "    __inherit__ = True\n",
    "\n",
    "    @impure\n",
    "    def _flip():\n",
    "        return np.random.binomial(1, 0.5)\n",
    "\n",
    "    def image(image, _flip):\n",
    "        if _flip:\n",
    "            return np.flip(image, axis=1)\n",
    "        return image"
   ],
   "metadata": {
    "collapsed": false
   }
  },
  {
   "cell_type": "markdown",
   "source": [
    "## Combining it all together"
   ],
   "metadata": {
    "collapsed": false
   }
  },
  {
   "cell_type": "code",
   "execution_count": null,
   "outputs": [],
   "source": [
    "from amid.rsna_bc import RSNABreastCancer\n",
    "from connectome import Chain\n",
    "\n",
    "ds = Chain(\n",
    "    RSNABreastCancer('/path/to/downloaded/folder'),\n",
    "    Normalize(),\n",
    "    Apply(image=lambda x: zoom(np.float32(x), 0.25, order=1)),\n",
    "    GreatestComponent(),\n",
    "    CropBackground(),\n",
    "\n",
    "    # aug\n",
    "    RandomFlip(),\n",
    ")"
   ],
   "metadata": {
    "collapsed": false
   }
  }
 ],
 "metadata": {
  "kernelspec": {
   "display_name": "Python 3",
   "language": "python",
   "name": "python3"
  },
  "language_info": {
   "codemirror_mode": {
    "name": "ipython",
    "version": 2
   },
   "file_extension": ".py",
   "mimetype": "text/x-python",
   "name": "python",
   "nbconvert_exporter": "python",
   "pygments_lexer": "ipython2",
   "version": "2.7.6"
  }
 },
 "nbformat": 4,
 "nbformat_minor": 0
}
